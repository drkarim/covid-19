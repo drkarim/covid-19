{
 "cells": [
  {
   "cell_type": "code",
   "execution_count": 1,
   "metadata": {},
   "outputs": [],
   "source": [
    "import numpy as np\n",
    "import pandas as pd\n",
    "import matplotlib.pyplot as plt\n",
    "import numpy as np"
   ]
  },
  {
   "cell_type": "markdown",
   "metadata": {},
   "source": [
    "# Covid-19 Dataset \n",
    "## Confirmed cases and Fatalities by country (n=163) from 22-Jan to 23-March\n",
    "\n",
    "**Purepose**: This could be used to model to predict the cumulative number of confirmed COVID19 cases in various locations across the world, as well as the number of resulting fatalities, for future dates.\n",
    "\n",
    "**Data source**: https://www.kaggle.com/c/covid19-global-forecasting-week-1/data\n",
    "\n"
   ]
  },
  {
   "cell_type": "code",
   "execution_count": 7,
   "metadata": {},
   "outputs": [],
   "source": [
    "train_ = pd.read_csv(\"./data/covid19-global-forecasting-week-1/train.csv\")\n",
    "test_ = pd.read_csv(\"./data/covid19-global-forecasting-week-1/test.csv\")"
   ]
  },
  {
   "cell_type": "code",
   "execution_count": 11,
   "metadata": {},
   "outputs": [],
   "source": [
    "# Make copies to keep original untouched\n",
    "train = train_.copy()\n",
    "test = test_.copy()"
   ]
  },
  {
   "cell_type": "code",
   "execution_count": 12,
   "metadata": {},
   "outputs": [
    {
     "data": {
      "text/html": [
       "<div>\n",
       "<style scoped>\n",
       "    .dataframe tbody tr th:only-of-type {\n",
       "        vertical-align: middle;\n",
       "    }\n",
       "\n",
       "    .dataframe tbody tr th {\n",
       "        vertical-align: top;\n",
       "    }\n",
       "\n",
       "    .dataframe thead th {\n",
       "        text-align: right;\n",
       "    }\n",
       "</style>\n",
       "<table border=\"1\" class=\"dataframe\">\n",
       "  <thead>\n",
       "    <tr style=\"text-align: right;\">\n",
       "      <th></th>\n",
       "      <th>Id</th>\n",
       "      <th>Province/State</th>\n",
       "      <th>Country/Region</th>\n",
       "      <th>Lat</th>\n",
       "      <th>Long</th>\n",
       "      <th>Date</th>\n",
       "      <th>ConfirmedCases</th>\n",
       "      <th>Fatalities</th>\n",
       "    </tr>\n",
       "  </thead>\n",
       "  <tbody>\n",
       "    <tr>\n",
       "      <th>0</th>\n",
       "      <td>1</td>\n",
       "      <td>NaN</td>\n",
       "      <td>Afghanistan</td>\n",
       "      <td>33.0</td>\n",
       "      <td>65.0</td>\n",
       "      <td>2020-01-22</td>\n",
       "      <td>0.0</td>\n",
       "      <td>0.0</td>\n",
       "    </tr>\n",
       "    <tr>\n",
       "      <th>1</th>\n",
       "      <td>2</td>\n",
       "      <td>NaN</td>\n",
       "      <td>Afghanistan</td>\n",
       "      <td>33.0</td>\n",
       "      <td>65.0</td>\n",
       "      <td>2020-01-23</td>\n",
       "      <td>0.0</td>\n",
       "      <td>0.0</td>\n",
       "    </tr>\n",
       "    <tr>\n",
       "      <th>2</th>\n",
       "      <td>3</td>\n",
       "      <td>NaN</td>\n",
       "      <td>Afghanistan</td>\n",
       "      <td>33.0</td>\n",
       "      <td>65.0</td>\n",
       "      <td>2020-01-24</td>\n",
       "      <td>0.0</td>\n",
       "      <td>0.0</td>\n",
       "    </tr>\n",
       "  </tbody>\n",
       "</table>\n",
       "</div>"
      ],
      "text/plain": [
       "   Id Province/State Country/Region   Lat  Long        Date  ConfirmedCases  \\\n",
       "0   1            NaN    Afghanistan  33.0  65.0  2020-01-22             0.0   \n",
       "1   2            NaN    Afghanistan  33.0  65.0  2020-01-23             0.0   \n",
       "2   3            NaN    Afghanistan  33.0  65.0  2020-01-24             0.0   \n",
       "\n",
       "   Fatalities  \n",
       "0         0.0  \n",
       "1         0.0  \n",
       "2         0.0  "
      ]
     },
     "execution_count": 12,
     "metadata": {},
     "output_type": "execute_result"
    }
   ],
   "source": [
    "train.head(3)"
   ]
  },
  {
   "cell_type": "code",
   "execution_count": 13,
   "metadata": {},
   "outputs": [
    {
     "data": {
      "text/plain": [
       "US                                  3480\n",
       "China                               1980\n",
       "Canada                               660\n",
       "Australia                            540\n",
       "France                               480\n",
       "United Kingdom                       300\n",
       "Netherlands                          180\n",
       "Denmark                              120\n",
       "Kazakhstan                            60\n",
       "Congo (Kinshasa)                      60\n",
       "Saint Vincent and the Grenadines      60\n",
       "Central African Republic              60\n",
       "Equatorial Guinea                     60\n",
       "Hungary                               60\n",
       "Norway                                60\n",
       "Ireland                               60\n",
       "French Guiana                         60\n",
       "Turkey                                60\n",
       "Honduras                              60\n",
       "San Marino                            60\n",
       "Switzerland                           60\n",
       "Greece                                60\n",
       "Czechia                               60\n",
       "Bahrain                               60\n",
       "Benin                                 60\n",
       "Ethiopia                              60\n",
       "Burkina Faso                          60\n",
       "Belarus                               60\n",
       "Maldives                              60\n",
       "Somalia                               60\n",
       "                                    ... \n",
       "Cyprus                                60\n",
       "Uzbekistan                            60\n",
       "Lithuania                             60\n",
       "Paraguay                              60\n",
       "Bosnia and Herzegovina                60\n",
       "Saudi Arabia                          60\n",
       "Slovakia                              60\n",
       "Suriname                              60\n",
       "Costa Rica                            60\n",
       "South Africa                          60\n",
       "Namibia                               60\n",
       "Liechtenstein                         60\n",
       "Serbia                                60\n",
       "Sudan                                 60\n",
       "Tanzania                              60\n",
       "Cambodia                              60\n",
       "Bulgaria                              60\n",
       "Germany                               60\n",
       "Jordan                                60\n",
       "Russia                                60\n",
       "Greenland                             60\n",
       "Azerbaijan                            60\n",
       "India                                 60\n",
       "Gabon                                 60\n",
       "Kosovo                                60\n",
       "Kenya                                 60\n",
       "Bolivia                               60\n",
       "Kuwait                                60\n",
       "Nepal                                 60\n",
       "Ghana                                 60\n",
       "Name: Country/Region, Length: 163, dtype: int64"
      ]
     },
     "execution_count": 13,
     "metadata": {},
     "output_type": "execute_result"
    }
   ],
   "source": [
    "train['Country/Region'].value_counts()"
   ]
  },
  {
   "cell_type": "markdown",
   "metadata": {},
   "source": [
    "## Feature Engineering \n",
    "Transforming and combining columns to generate newer columns "
   ]
  },
  {
   "cell_type": "code",
   "execution_count": 14,
   "metadata": {},
   "outputs": [],
   "source": [
    "train = train[train.Date != '']"
   ]
  },
  {
   "cell_type": "code",
   "execution_count": 15,
   "metadata": {},
   "outputs": [],
   "source": [
    "# The simplest would be to compute a new column called Days that is the number of elasped from min Date \n",
    "\n",
    "# Convert to datetime before date subtraction can be performed \n",
    "train['Date_formatted'] =  pd.to_datetime(train['Date'])\n",
    "min_date = train['Date'].min()\n",
    "basedate = pd.Timestamp(min_date)\n",
    "#train['Days'] = train['Date'].apply(lambda x: (x.name.to_datetime() - basedate).days)\n",
    "train['Days'] = (train['Date_formatted'] - basedate).dt.days"
   ]
  },
  {
   "cell_type": "code",
   "execution_count": 16,
   "metadata": {},
   "outputs": [
    {
     "data": {
      "text/plain": [
       "'2020-01-22'"
      ]
     },
     "execution_count": 16,
     "metadata": {},
     "output_type": "execute_result"
    }
   ],
   "source": [
    "min_date"
   ]
  },
  {
   "cell_type": "markdown",
   "metadata": {},
   "source": [
    "### Choose a country to perform some data analysis\n",
    "*I have chosen Bangladesh, UK and Italy due to current situation and lineage*"
   ]
  },
  {
   "cell_type": "code",
   "execution_count": 17,
   "metadata": {},
   "outputs": [],
   "source": [
    "df_bd = train[train['Country/Region'] == 'Bangladesh']\n",
    "df_uk = train[train['Country/Region'] == 'United Kingdom']\n",
    "df_it = train[train['Country/Region'] == 'Italy']\n",
    "df_iran = train[train['Country/Region'] == 'Iran']"
   ]
  },
  {
   "cell_type": "code",
   "execution_count": null,
   "metadata": {},
   "outputs": [],
   "source": []
  },
  {
   "cell_type": "code",
   "execution_count": 20,
   "metadata": {},
   "outputs": [
    {
     "data": {
      "text/plain": [
       "<matplotlib.legend.Legend at 0x19b5f4f3eb8>"
      ]
     },
     "execution_count": 20,
     "metadata": {},
     "output_type": "execute_result"
    },
    {
     "data": {
      "image/png": "[encoded data removed]",
      "text/plain": [
       "<Figure size 432x288 with 4 Axes>"
      ]
     },
     "metadata": {
      "needs_background": "light"
     },
     "output_type": "display_data"
    }
   ],
   "source": [
    "fig = plt.figure() \n",
    "# defining subplots \n",
    "ax1 = fig.add_subplot(221) \n",
    "ax2 = fig.add_subplot(222) \n",
    "ax3 = fig.add_subplot(223) \n",
    "ax4 = fig.add_subplot(224) \n",
    "\n",
    "# Plot Bangladesh \n",
    "ax1.plot(df_bd['Days'],df_bd['ConfirmedCases'], label='BD')\n",
    "ax1.tick_params(axis ='both', which ='both', length = 0) \n",
    "ax1.legend(['BD'])\n",
    "\n",
    "# Plot UK \n",
    "ax2.plot(df_uk['Days'],df_uk['ConfirmedCases'], label='UK')\n",
    "ax2.tick_params(axis ='both', which ='both', length = 0) \n",
    "ax2.legend(['UK'])\n",
    "\n",
    "# Plot Italy\n",
    "ax3.plot(df_it['Days'],df_it['ConfirmedCases'], label='IT')\n",
    "ax3.tick_params(axis ='both', which ='both', length = 0) \n",
    "ax3.legend(['ITALY'])\n",
    "\n",
    "# Plot Iran\n",
    "ax4.plot(df_iran['Days'],df_iran['ConfirmedCases'], label='IRAN')\n",
    "ax4.tick_params(axis ='both', which ='both', length = 0) \n",
    "ax4.legend(['IRAN'])\n",
    "\n",
    "\n"
   ]
  },
  {
   "cell_type": "code",
   "execution_count": 21,
   "metadata": {},
   "outputs": [
    {
     "data": {
      "text/plain": [
       "'2020-03-21'"
      ]
     },
     "execution_count": 21,
     "metadata": {},
     "output_type": "execute_result"
    }
   ],
   "source": [
    "train['Date'].min()\n",
    "train['Date'].max()"
   ]
  },
  {
   "cell_type": "code",
   "execution_count": null,
   "metadata": {},
   "outputs": [],
   "source": []
  }
 ],
 "metadata": {
  "kernelspec": {
   "display_name": "Python 3",
   "language": "python",
   "name": "python3"
  },
  "language_info": {
   "codemirror_mode": {
    "name": "ipython",
    "version": 3
   },
   "file_extension": ".py",
   "mimetype": "text/x-python",
   "name": "python",
   "nbconvert_exporter": "python",
   "pygments_lexer": "ipython3",
   "version": "3.7.1"
  }
 },
 "nbformat": 4,
 "nbformat_minor": 2
}
